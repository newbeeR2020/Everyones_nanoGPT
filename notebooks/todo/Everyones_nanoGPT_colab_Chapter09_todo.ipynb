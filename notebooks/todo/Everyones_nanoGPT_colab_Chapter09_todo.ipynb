{
 "cells": [
  {
   "cell_type": "markdown",
   "metadata": {
    "id": "HR4UHLwGeNWt"
   },
   "source": [
    "# **NOTE for Colab Users**\n",
    "\n",
    "# **Do NOT write directly in this file—your work might be lost!**\n",
    "\n",
    "# **Always make a copy before you start.**\n",
    "\n",
    "How to make a copy\n",
    "\n",
    "1. Click \"File\" in the top left.\n",
    "> *If you can’t find the header (like “File” or \"Runtime\"), click the “v” mark at the top right to show it.*\n",
    "\n",
    "2. \"Save a copy in Drive\"\n",
    "\n",
    "3. Change the copied file’s name to “YOURNAMEs\\_FileName.ipynb”.\n",
    "> Ex: If your name is Olivia : Olivias_FileName.ipynb\n",
    "\n",
    "4. Set your runtime to **CPU**. T4 GPU resets your session more often than CPU.<br>\n",
    "So, it’s best to use the CPU runtime unless you need GPU for training.<br>\n",
    "Check out this [Video](https://youtu.be/XRmI-qRiFFw).<br>\n",
    "\n",
    "> If you switch the runtime halfway, you have to rerun all cells from the start.<br>\n",
    "> Please pick your runtime before you begin.<br>\n",
    "> *Rerunning cells: Click “Runtime” (top left) → Then click “Run before”.*<br>\n",
    "\n",
    "---\n",
    "\n",
    "* Check marks (✅) won’t be saved. If you reload the page with Chrome’s refresh button, they’ll disappear.<br>\n",
    "If you want to pause and come back later, just add a text cell and write something like “SO FAR DONE.”\n",
    "\n",
    "---\n",
    "\n",
    "* In Colab, **previous outputs reset every 30 to 90 minutes**.<br>\n",
    "  Because of this, errors like `~~ is not defined` will happen **very often**.\n",
    "\n",
    "  🔁 What to do when you get an `~~is not defined` error\n",
    "  1. First, make sure your variable is spelled right.<br>\n",
    "  2. If it’s spelled right but you still see the error, **click the cell you want to restart**.<br>\n",
    "  3. Go to “Runtime” (top left) → Click “Run before”.<br>\n",
    "    → This will **re-run all previous cells**.\n",
    "  4. Run the cell again.\n",
    "\n",
    "  If you still see the error after these steps,<br>\n",
    "  there might be a basic mistake in your TODO answers from earlier cells.<br>\n",
    "  Please check if your answer is right.<br>\n",
    "  Or ask ChatGPT or another coding assistant for help."
   ]
  },
  {
   "cell_type": "markdown",
   "metadata": {
    "id": "yNU3haukeSNC"
   },
   "source": [
    "# **Preparation**\n",
    "\n",
    "This section only loads content from earlier chapters.<br>\n",
    "Just run the code—you don’t need to read it.<br>\n",
    "Feel free to skip ahead.<br>"
   ]
  },
  {
   "cell_type": "code",
   "execution_count": null,
   "metadata": {
    "id": "eRUPWvvLeUIM"
   },
   "outputs": [],
   "source": [
    "# Donwload the file\n",
    "!wget https://raw.githubusercontent.com/HayatoHongo/Everyones_nanoGPT/main/input.txt -O input.txt\n",
    "# Load the file called input.text that you just downloaded in utf-8.\n",
    "with open(\"input.txt\", 'r', encoding = 'utf-8') as f:\n",
    "    text = f.read()\n",
    "\n",
    "# A Function to Display Tensors Nicely (Feel Free to Skip This)\n",
    "import torch\n",
    "import torch.nn as nn\n",
    "import torch.nn.functional as F\n",
    "\n",
    "def print_formatted_tensor(*args, width=6, decimals=2):\n",
    "    \"\"\"\n",
    "    A function that neatly formats and displays a PyTorch Tensor, and also prints its size.\n",
    "\n",
    "    Example usage:\n",
    "        print_formatted_tensor(\"name\", tensor)\n",
    "        print_formatted_tensor(tensor)\n",
    "\n",
    "    Args:\n",
    "        *args: If given 1 argument, it is treated as a tensor.\n",
    "               If given 2 arguments, the first is treated as the name, the second as the tensor.\n",
    "        width (int): Display width for each number (default: 6)\n",
    "        decimals (int): Number of decimal places to show (default: 2)\n",
    "    \"\"\"\n",
    "\n",
    "    # Determine tensor and name from arguments\n",
    "    if not args:\n",
    "        raise ValueError(\"At least one argument is required.\")\n",
    "    if isinstance(args[0], str):\n",
    "        if len(args) < 2:\n",
    "            raise ValueError(\"Tensor is not specified.\")\n",
    "        name, tensor = args[0], args[1]\n",
    "    else:\n",
    "        name, tensor = None, args[0]\n",
    "\n",
    "    # Convert Tensor to List\n",
    "    tensor_list = tensor.detach().cpu().tolist()\n",
    "\n",
    "    def format_list(lst, indent):\n",
    "        \"\"\"Formatting a recursively nested list and returning a string\"\"\"\n",
    "        # If the contents are lists, then re-return\n",
    "        if isinstance(lst, list) and lst and isinstance(lst[0], list):\n",
    "            inner = \",\\n\".join(\" \" * indent + format_list(sub, indent + 2) for sub in lst)\n",
    "            return \"[\\n\" + inner + \"\\n\" + \" \" * (indent - 2) + \"]\"\n",
    "        # For numerical lists\n",
    "        return \"[\" + \", \".join(f\"{v:{width}.{decimals}f}\" for v in lst) + \"]\"\n",
    "\n",
    "    # Formatted string (bar brackets on outermost frames are removed)\n",
    "    formatted = format_list(tensor_list, indent=9)\n",
    "    inner_formatted = formatted[1:-1].strip()\n",
    "\n",
    "    # Result output\n",
    "    if name:\n",
    "        print(name)\n",
    "    print(f\"Tensor Size: {list(tensor.size())}\")\n",
    "    print(\"tensor([\")\n",
    "    print(\" \" * 9 + inner_formatted)\n",
    "    print(\" \" * 7 + \"])\")\n",
    "\n",
    "class TokenEmbedding(nn.Module):\n",
    "    def __init__(self, vocab_size, embedding_dim):\n",
    "        super().__init__()\n",
    "        # Define an embedded table for vocabulary number x number of embedding dimensions\n",
    "        self.token_embedding_table = nn.Embedding(vocab_size, embedding_dim)\n",
    "\n",
    "    def embed(self, input_indices):\n",
    "        # Get the embedded vector corresponding to the input index\n",
    "        return self.token_embedding_table.forward(input_indices)\n",
    "\n",
    "# Defining a Position Embedded Module\n",
    "class PositionEmbedding(nn.Module):\n",
    "    def __init__(self, input_sequence_length, embedding_dim):\n",
    "        super().__init__()\n",
    "        # Location embedding layer\n",
    "        self.position_embedding_layer = nn.Embedding(input_sequence_length, embedding_dim)\n",
    "\n",
    "    def forward(self, input_indices):\n",
    "        sequence_length = input_indices.shape[1]  # Get sequence length\n",
    "        position_indices = torch.arange(sequence_length, device=input_indices.device)  # Position index generation\n",
    "        position_embeddings = self.position_embedding_layer(position_indices)  # Position embedding\n",
    "        return position_embeddings\n",
    "\n",
    "class EmbeddingModule(nn.Module):\n",
    "    def __init__(self, vocab_size, config):\n",
    "        super().__init__()\n",
    "        # Embedded layer for each token\n",
    "        self.token_embedding_layer = TokenEmbedding(vocab_size = vocab_size, embedding_dim = config.embedding_dim)\n",
    "        self.position_embedding_layer = PositionEmbedding(input_sequence_length = config.input_sequence_length, embedding_dim = config.embedding_dim)\n",
    "\n",
    "    def forward(self, input_indices):\n",
    "        # Get token embedding\n",
    "        token_embeddings = self.token_embedding_layer.embed(input_indices)\n",
    "\n",
    "        # Get location embedding\n",
    "        position_embeddings = self.position_embedding_layer.forward(input_indices)\n",
    "\n",
    "        # Adding token embedding and position embedding\n",
    "        embeddings = token_embeddings + position_embeddings\n",
    "        return embeddings\n",
    "\n",
    "class AttentionHead(nn.Module):\n",
    "    def __init__(self, head_size, config):\n",
    "        super().__init__()\n",
    "        self.key_fc= nn.Linear(config.embedding_dim, head_size, bias=False)\n",
    "        self.query_fc = nn.Linear(config.embedding_dim, head_size, bias=False)\n",
    "        self.value_fc = nn.Linear(config.embedding_dim, head_size, bias=False)\n",
    "\n",
    "        # Masks are created using the lower triangular matrix (maintaining the causality of self-attention)\n",
    "        self.register_buffer('tril', torch.tril(torch.ones(config.input_sequence_length, config.input_sequence_length)))\n",
    "\n",
    "        # Dropout\n",
    "        self.dropout = DeterministicDropout(config.dropout_rate)\n",
    "        self.head_size = head_size\n",
    "\n",
    "    def forward(self, input_tensor):\n",
    "        B, T, C = input_tensor.shape  # Batch, Token Length, Embedding Channel\n",
    "\n",
    "        key = self.key_fc.forward(input_tensor)     # (B, T, head_size)\n",
    "        query = self.query_fc.forward(input_tensor)   # (B, T, head_size)\n",
    "        value = self.value_fc.forward(input_tensor)   # (B, T, head_size)\n",
    "\n",
    "        # Calculating Attention score (QK^T) * self.head_size **(-0.5)\n",
    "        attention_scores = query @ key.transpose(-2, -1) * self.head_size**(-0.5)\n",
    "\n",
    "        # Mask applied\n",
    "        attention_scores = attention_scores.masked_fill(self.tril[:T, :T] == 0, float('-inf'))\n",
    "\n",
    "        # Softmax → Dropout → Weighted sum\n",
    "        attention_weights = F.softmax(attention_scores, dim=-1)\n",
    "        attention_weights = self.dropout(attention_weights)\n",
    "        out = attention_weights @ value  # (B, T, head_size)\n",
    "        return out\n",
    "\n",
    "class DeterministicDropout(nn.Module):\n",
    "    def __init__(self, p=0.1, seed=199):\n",
    "        super().__init__()\n",
    "        self.p = p\n",
    "        # Create a fixed random number generator\n",
    "        self.generator = torch.Generator()\n",
    "        self.generator.manual_seed(seed)\n",
    "\n",
    "    def forward(self, x):\n",
    "        if self.training:\n",
    "            # Generate random numbers using a fixed generator\n",
    "            mask = (torch.rand(x.shape, generator=self.generator, device=x.device, dtype=x.dtype) > self.p)\n",
    "            return x * mask / (1 - self.p)\n",
    "        else:\n",
    "            return x\n",
    "\n",
    "class MultiHeadAttention(nn.Module):\n",
    "    def __init__(self, config):\n",
    "        super().__init__()\n",
    "        self.config = config\n",
    "        self.num_attention_heads = config.num_attention_heads\n",
    "        self.embedding_dim = config.embedding_dim\n",
    "\n",
    "        # Head size is the number of embedded dimensions // number of AttentionHeads. In this example, 8/2 = 4 is self.head_size.\n",
    "        self.head_size = int(self.embedding_dim / self.num_attention_heads)\n",
    "\n",
    "        # Manage multiple heads with ModuleList\n",
    "        self.attention_heads = nn.ModuleList([\n",
    "            AttentionHead(self.head_size, config)\n",
    "            for _ in range(self.num_attention_heads)\n",
    "        ])\n",
    "\n",
    "        # Linear layer for mixing the outputs of each head\n",
    "        self.output_projection = nn.Linear(self.embedding_dim, self.embedding_dim)\n",
    "\n",
    "        # Dropouts for output\n",
    "        self.dropout = DeterministicDropout(config.dropout_rate)\n",
    "\n",
    "    def forward(self, input_tensor):\n",
    "        # Get output from each head\n",
    "        head_outputs_list = [head(input_tensor) for head in self.attention_heads]  # List of (B, T, head_dim)\n",
    "\n",
    "        # Concatenate outputs of all heads → (B, T, embedding_dim)\n",
    "        concatenated = torch.cat(head_outputs_list, dim=-1)\n",
    "\n",
    "        # Mixing outputs with linear transformation\n",
    "        projected = self.output_projection(concatenated)\n",
    "\n",
    "        # Apply dropout to final output\n",
    "        output = self.dropout(projected)\n",
    "\n",
    "        return output\n",
    "\n",
    "class FeedForward(nn.Module):\n",
    "    def __init__(self, config):\n",
    "        super().__init__()\n",
    "        self.fc1 = nn.Linear(config.embedding_dim, config.hidden_dim)  # The first layer\n",
    "        self.relu = nn.ReLU()  # Activation function\n",
    "        self.fc2 = nn.Linear(config.hidden_dim, config.embedding_dim)  # The second layer fully bonded layer\n",
    "        self.dropout = DeterministicDropout(config.dropout_rate) # Dropout\n",
    "\n",
    "    def forward(self, attention_output_tensor):\n",
    "        hidden_tensor = self.fc1(attention_output_tensor)\n",
    "\n",
    "        activated_tensor = self.relu(hidden_tensor)\n",
    "\n",
    "        output_tensor = self.fc2(activated_tensor)\n",
    "\n",
    "        final_output_tensor = self.dropout(output_tensor)\n",
    "\n",
    "        return final_output_tensor\n",
    "\n",
    "# Configuration class that stores model settings\n",
    "class ModelConfig:\n",
    "    batch_size = 1  # Number of data to process at a time (batch size)\n",
    "    input_sequence_length = 8  # Length of input data (sequence length)\n",
    "    embedding_dim = 8  # Embedded layer size (number of dimensions of feature vector)\n",
    "    hidden_dim = 16 # Hidden layer size in FeedForward layer\n",
    "    num_attention_heads = 2  # Note Mechanism Head Number\n",
    "    dropout_rate = 0.1  # Dropout probability\n",
    "\n",
    "# Verify your settings\n",
    "config = ModelConfig()\n",
    "\n",
    "# I've just put together the processes so far so I can skip it\n",
    "torch.manual_seed(1337)\n",
    "\n",
    "# Creating an EmbeddingModule instance.\n",
    "embedding_module = EmbeddingModule(vocab_size = 65, config = config)\n",
    "layer_norm1 = nn.LayerNorm(config.embedding_dim)\n",
    "layer_norm2 = nn.LayerNorm(config.embedding_dim)\n",
    "multiheadattention = MultiHeadAttention(config = config)\n",
    "feedforward = FeedForward(config)\n",
    "\n",
    "# Compatible with Let's he. (Batch size, token length) = (1, 8)\n",
    "sample_input_tokens = torch.tensor([[24, 43, 58, 5, 57, 1, 46, 43]])\n",
    "\n",
    "embeddings = embedding_module.forward(sample_input_tokens)\n",
    "norm_embeddings = layer_norm1(embeddings)\n",
    "multihead_attention_output = multiheadattention.forward(norm_embeddings)\n",
    "residual_connection_output = multihead_attention_output + embeddings\n",
    "residual_connection_output_norm = layer_norm2(residual_connection_output)\n",
    "feedforward_output = feedforward.forward(residual_connection_output_norm)\n",
    "print_formatted_tensor(\"feedforward_output\", feedforward_output)"
   ]
  },
  {
   "cell_type": "markdown",
   "metadata": {
    "id": "D1cmBv6in2rj"
   },
   "source": [
    "# **Chapter 9: TransformerBlock Class**"
   ]
  },
  {
   "cell_type": "markdown",
   "metadata": {
    "id": "4ccSkWLzCJ6l"
   },
   "source": [
    "Combine all the steps so far to build a Transformer block.\n",
    "\n",
    "The blue block in the below figure is TransformerBlock,\n",
    "\n",
    "please note that you don't need to include Token & Position Embedding."
   ]
  },
  {
   "cell_type": "markdown",
   "metadata": {
    "id": "9zvjHQwmgXiW"
   },
   "source": [
    "![image.png](data:image/png;base64,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)"
   ]
  },
  {
   "cell_type": "markdown",
   "metadata": {
    "id": "0bdnysbBCrTB"
   },
   "source": [
    "### **Section 1: Define a Class**"
   ]
  },
  {
   "cell_type": "markdown",
   "metadata": {
    "id": "KX2J3Cu91039"
   },
   "source": [
    "🔘 **Options**: There may be extra options you don't need.\n",
    "\n",
    "`self.multihead_attention`　`self.layer_norm1`　`self.layer_norm2`　`attention_output`　`normed_input`　`self.feed_forward`　`residual_attention`　`normed_attention`　`feedforward_output`"
   ]
  },
  {
   "cell_type": "code",
   "execution_count": null,
   "metadata": {
    "id": "etXX458X9FPr"
   },
   "outputs": [],
   "source": [
    "class TransformerBlock(nn.Module):\n",
    "    def __init__(self, config):\n",
    "        super().__init__()\n",
    "        self.layer_norm1 = nn.LayerNorm(config.embedding_dim)\n",
    "        self.layer_norm2 = nn.LayerNorm(config.embedding_dim)\n",
    "\n",
    "        self.multihead_attention = MultiHeadAttention(config=config)\n",
    "        self.feed_forward = FeedForward(config=config)\n",
    "\n",
    "    def forward(self, input_tensor):\n",
    "        normed_input = ______________(input_tensor) # Apply Layer Norm to input\n",
    "        attention_output = __________________(normed_input) # Apply multi-head attention\n",
    "        residual_attention = ___________ + input_tensor # residual connection\n",
    "        normed_attention = ______________(residual_attention) # Apply LayerNorm again to residual output\n",
    "        feedforward_output = _____________(normed_attention) # Apply feedforward network (FFN)\n",
    "        final_output = _____________ + _______________ # add \"before\" layernorm2!\n",
    "\n",
    "        return final_output"
   ]
  },
  {
   "cell_type": "markdown",
   "metadata": {
    "id": "BKWuwjYluY2_"
   },
   "source": [
    "<details>\n",
    "<summary>Click here to show/hide answer</summary>\n",
    "\n",
    "```python\n",
    "class TransformerBlock(nn.Module):\n",
    "    def __init__(self, config):\n",
    "        super().__init__()\n",
    "\n",
    "        # Each LayerNorm instance stores its own scaling parameters beta and gamma.\n",
    "        self.layer_norm1 = LayerNorm(config.embedding_dim)\n",
    "        self.layer_norm2 = LayerNorm(config.embedding_dim)\n",
    "\n",
    "        self.multihead_attention = MultiHeadAttention(config=config)\n",
    "        self.feed_forward = FeedForward(config=config)\n",
    "\n",
    "    def forward(self, input_tensor):\n",
    "        # forward method is omitted.\n",
    "        normed_input = self.layer_norm1(input_tensor) # Apply Layer Norm to input\n",
    "        attention_output = self.multihead_attention(normed_input) # Apply multi-head attention\n",
    "        residual_attention = attention_output + input_tensor\n",
    "        normed_attention = self.layer_norm2(residual_attention) # Apply LayerNorm again to residual output\n",
    "        feedforward_output = self.feed_forward(normed_attention) # Apply feedforward network (FFN)\n",
    "        final_output = feedforward_output + residual_attention # add \"before\" layernorm2!\n",
    "\n",
    "        return final_output\n",
    "\n",
    "```"
   ]
  },
  {
   "cell_type": "code",
   "execution_count": null,
   "metadata": {
    "id": "_y15LNH2-a33"
   },
   "outputs": [],
   "source": [
    "# Configuration class that stores model settings\n",
    "class ModelConfig:\n",
    "    batch_size = 1  # Number of data to process at a time (batch size)\n",
    "    input_sequence_length = 8  # Length of input data (sequence length)\n",
    "    embedding_dim = 8  # Embedded layer size (number of dimensions of feature vector)\n",
    "    hidden_dim = 16 # Hidden layer size in FeedForward layer\n",
    "    num_attention_heads = 2  # Note Mechanism Head Number\n",
    "    dropout_rate = 0.1  # Dropout probability"
   ]
  },
  {
   "cell_type": "code",
   "execution_count": null,
   "metadata": {
    "id": "WleP8FnQ-et6"
   },
   "outputs": [],
   "source": [
    "# Adjust seed value\n",
    "torch.manual_seed(1337)\n",
    "\n",
    "# Creating a ModelConfig instance. No configuration parameters (constructors).\n",
    "config = ModelConfig()\n",
    "\n",
    "# Creating an EmbeddingModule instance.\n",
    "embedding_module = EmbeddingModule(vocab_size = 65, config = config)\n",
    "\n",
    "# Creating a Transformer block instance.\n",
    "transformer_block1 = # TODO: Define TransformerBlock instance.\n",
    "transformer_block2 = # TODO: Define TransformerBlock instance.\n",
    "\n",
    "# Compatible with Let's he. (Batch size, token length) = (1, 8)\n",
    "sample_input_tokens = torch.tensor([[24, 43, 58, 5, 57, 1, 46, 43]])\n",
    "sample_embeddings = embedding_module.forward(sample_input_tokens)\n",
    "\n",
    "# Pass through the first Transformer block\n",
    "transformer_block1_output = # TODO: Instance.Method(Argument). The forward method is usually optional.\n",
    "print_formatted_tensor(\"transformer_block1_output\", transformer_block1_output)\n",
    "\n",
    "transformer_block2_output = # TODO: Instance.Method(Argument). The forward method is usually optional.\n",
    "print_formatted_tensor(\"transformer_block2_output\", transformer_block2_output)"
   ]
  },
  {
   "cell_type": "markdown",
   "metadata": {
    "id": "Mf9SuA6Echqf"
   },
   "source": [
    "**`Check Point`** <label><input type=\"checkbox\"> ← Check this box if the result above matches the answer below<label>\n",
    "\n",
    "```\n",
    "transformer_block1_output\n",
    "Tensor Size: [1, 8, 8]\n",
    "tensor([\n",
    "         [\n",
    "           [  0.14,  -2.19,   2.87,   0.55,   2.39,   0.14,   0.70,  -0.16],\n",
    "           [ -0.45,  -1.65,   0.23,   0.60,  -1.84,   0.89,   2.54,  -1.43],\n",
    "           [ -0.99,  -0.56,  -2.10,  -1.18,   2.15,   1.79,  -0.08,   0.11],\n",
    "           [ -1.42,  -0.49,   0.39,  -1.45,   0.54,   2.88,  -0.46,  -0.94],\n",
    "           [ -1.65,  -0.16,  -0.53,  -0.51,   1.34,   1.68,   0.84,   0.29],\n",
    "           [ -0.07,   1.28,  -1.05,   0.13,   1.84,   0.53,   0.20,  -0.65],\n",
    "           [ -1.80,  -0.87,   1.51,   0.97,   0.52,   2.43,  -0.77,   0.79],\n",
    "           [ -0.59,   0.51,   0.26,  -1.04,   0.67,  -0.47,   1.94,   0.89]\n",
    "         ]\n",
    "       ])\n",
    "transformer_block2_output\n",
    "Tensor Size: [1, 8, 8]\n",
    "tensor([\n",
    "         [\n",
    "           [ -0.46,  -2.47,   2.64,   0.00,   3.02,   0.14,   0.11,   0.75],\n",
    "           [ -1.18,  -1.49,   0.84,   0.31,  -1.74,   1.41,   1.73,  -1.31],\n",
    "           [ -1.76,  -0.16,  -1.99,  -0.89,   2.49,   2.30,  -0.84,   0.13],\n",
    "           [ -2.05,  -0.29,   0.39,  -1.27,   0.68,   3.41,  -1.33,  -0.94],\n",
    "           [ -2.54,   0.10,  -0.19,  -0.51,   1.42,   2.23,   0.84,   0.01],\n",
    "           [ -0.74,   1.28,  -1.05,   0.65,   1.95,   0.87,  -0.51,  -1.08],\n",
    "           [ -2.17,  -0.67,   1.51,   1.34,   0.61,   2.98,  -1.63,   0.46],\n",
    "           [ -1.53,   0.20,   0.26,  -0.95,   0.56,   0.20,   1.33,   0.61]\n",
    "         ]\n",
    "       ])\n",
    "```"
   ]
  },
  {
   "cell_type": "markdown",
   "metadata": {
    "id": "wpf-pwIAFDn2"
   },
   "source": [
    "Feed the output of the first TransformerBlock into the second TransformerBlock for processing."
   ]
  },
  {
   "cell_type": "markdown",
   "metadata": {
    "id": "XMq0cg2Q2pvx"
   },
   "source": [
    "![mapyourprogressfemale3.png](data:image/png;base64,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)"
   ]
  },
  {
   "cell_type": "markdown",
   "metadata": {
    "id": "2pnNvY5Sy7al"
   },
   "source": [
    "**`Chapter 9: TransformerBlock Class: Section 1: Define a Class`** <label><input type=\"checkbox\"> Mark as Done</label>"
   ]
  },
  {
   "cell_type": "markdown",
   "metadata": {
    "id": "QvERH8cwzAnV"
   },
   "source": [
    "**`Chapter 9: TransformerBlock Class:`** <label><input type=\"checkbox\"> Mark as Done</label>"
   ]
  }
 ],
 "metadata": {
  "colab": {
   "provenance": [],
   "toc_visible": true
  },
  "kernelspec": {
   "display_name": "Python 3",
   "language": "python",
   "name": "python3"
  },
  "language_info": {
   "codemirror_mode": {
    "name": "ipython",
    "version": 3
   },
   "file_extension": ".py",
   "mimetype": "text/x-python",
   "name": "python",
   "nbconvert_exporter": "python",
   "pygments_lexer": "ipython3",
   "version": "3.11.6"
  }
 },
 "nbformat": 4,
 "nbformat_minor": 0
}
