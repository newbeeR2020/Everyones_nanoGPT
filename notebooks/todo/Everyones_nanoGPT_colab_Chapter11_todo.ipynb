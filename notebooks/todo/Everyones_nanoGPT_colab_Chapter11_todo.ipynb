{
 "cells": [
  {
   "cell_type": "markdown",
   "metadata": {
    "id": "GHsME1PHhUBz"
   },
   "source": [
    "# **NOTE for Colab Users**\n",
    "\n",
    "# **Do NOT write directly in this file—your work might be lost!**\n",
    "\n",
    "# **Always make a copy before you start.**\n",
    "\n",
    "How to make a copy\n",
    "\n",
    "1. Click \"File\" in the top left.\n",
    "> *If you can’t find the header (like “File” or \"Runtime\"), click the “v” mark at the top right to show it.*\n",
    "\n",
    "2. \"Save a copy in Drive\"\n",
    "\n",
    "3. Change the copied file’s name to “YOURNAMEs\\_FileName.ipynb”.\n",
    "> Ex: If your name is Olivia : Olivias_FileName.ipynb\n",
    "\n",
    "4. Set your runtime to **CPU**. T4 GPU resets your session more often than CPU.<br>\n",
    "So, it’s best to use the CPU runtime unless you need GPU for training.<br>\n",
    "Check out this [Video](https://youtu.be/XRmI-qRiFFw).<br>\n",
    "\n",
    "> If you switch the runtime halfway, you have to rerun all cells from the start.<br>\n",
    "> Please pick your runtime before you begin.<br>\n",
    "> *Rerunning cells: Click “Runtime” (top left) → Then click “Run before”.*<br>\n",
    "\n",
    "---\n",
    "\n",
    "* Check marks (✅) won’t be saved. If you reload the page with Chrome’s refresh button, they’ll disappear.<br>\n",
    "If you want to pause and come back later, just add a text cell and write something like “SO FAR DONE.”\n",
    "\n",
    "---\n",
    "\n",
    "* In Colab, **previous outputs reset every 30 to 90 minutes**.<br>\n",
    "  Because of this, errors like `~~ is not defined` will happen **very often**.\n",
    "\n",
    "  🔁 What to do when you get an `~~is not defined` error\n",
    "  1. First, make sure your variable is spelled right.<br>\n",
    "  2. If it’s spelled right but you still see the error, **click the cell you want to restart**.<br>\n",
    "  3. Go to “Runtime” (top left) → Click “Run before”.<br>\n",
    "    → This will **re-run all previous cells**.\n",
    "  4. Run the cell again.\n",
    "\n",
    "  If you still see the error after these steps,<br>\n",
    "  there might be a basic mistake in your TODO answers from earlier cells.<br>\n",
    "  Please check if your answer is right.<br>\n",
    "  Or ask ChatGPT or another coding assistant for help."
   ]
  },
  {
   "cell_type": "markdown",
   "metadata": {
    "id": "_hxHp80shXWV"
   },
   "source": [
    "# **Preparation**\n",
    "\n",
    "This section only loads content from earlier chapters.<br>\n",
    "Just run the code—you don’t need to read it.<br>\n",
    "Feel free to skip ahead.<br>"
   ]
  },
  {
   "cell_type": "code",
   "execution_count": null,
   "metadata": {
    "id": "msGsa-qghZAh"
   },
   "outputs": [],
   "source": [
    "# Donwload the file\n",
    "!wget https://raw.githubusercontent.com/HayatoHongo/Everyones_nanoGPT/main/input.txt -O input.txt\n",
    "# Load the file called input.text that you just downloaded in utf-8.\n",
    "with open(\"input.txt\", 'r', encoding = 'utf-8') as f:\n",
    "    text = f.read()\n",
    "\n",
    "# A Function to Display Tensors Nicely (Feel Free to Skip This)\n",
    "import torch\n",
    "import torch.nn as nn\n",
    "import torch.nn.functional as F\n",
    "\n",
    "def print_formatted_tensor(*args, width=6, decimals=2):\n",
    "    \"\"\"\n",
    "    A function that neatly formats and displays a PyTorch Tensor, and also prints its size.\n",
    "\n",
    "    Example usage:\n",
    "        print_formatted_tensor(\"name\", tensor)\n",
    "        print_formatted_tensor(tensor)\n",
    "\n",
    "    Args:\n",
    "        *args: If given 1 argument, it is treated as a tensor.\n",
    "               If given 2 arguments, the first is treated as the name, the second as the tensor.\n",
    "        width (int): Display width for each number (default: 6)\n",
    "        decimals (int): Number of decimal places to show (default: 2)\n",
    "    \"\"\"\n",
    "\n",
    "    # Determine tensor and name from arguments\n",
    "    if not args:\n",
    "        raise ValueError(\"At least one argument is required.\")\n",
    "    if isinstance(args[0], str):\n",
    "        if len(args) < 2:\n",
    "            raise ValueError(\"Tensor is not specified.\")\n",
    "        name, tensor = args[0], args[1]\n",
    "    else:\n",
    "        name, tensor = None, args[0]\n",
    "\n",
    "    # Convert Tensor to List\n",
    "    tensor_list = tensor.detach().cpu().tolist()\n",
    "\n",
    "    def format_list(lst, indent):\n",
    "        \"\"\"Formatting a recursively nested list and returning a string\"\"\"\n",
    "        # If the contents are lists, then re-return\n",
    "        if isinstance(lst, list) and lst and isinstance(lst[0], list):\n",
    "            inner = \",\\n\".join(\" \" * indent + format_list(sub, indent + 2) for sub in lst)\n",
    "            return \"[\\n\" + inner + \"\\n\" + \" \" * (indent - 2) + \"]\"\n",
    "        # For numerical lists\n",
    "        return \"[\" + \", \".join(f\"{v:{width}.{decimals}f}\" for v in lst) + \"]\"\n",
    "\n",
    "    # Formatted string (bar brackets on outermost frames are removed)\n",
    "    formatted = format_list(tensor_list, indent=9)\n",
    "    inner_formatted = formatted[1:-1].strip()\n",
    "\n",
    "    # Result output\n",
    "    if name:\n",
    "        print(name)\n",
    "    print(f\"Tensor Size: {list(tensor.size())}\")\n",
    "    print(\"tensor([\")\n",
    "    print(\" \" * 9 + inner_formatted)\n",
    "    print(\" \" * 7 + \"])\")\n",
    "\n",
    "class TokenEmbedding(nn.Module):\n",
    "    def __init__(self, vocab_size, embedding_dim):\n",
    "        super().__init__()\n",
    "        # Define an embedded table for vocabulary number x number of embedding dimensions\n",
    "        self.token_embedding_table = nn.Embedding(vocab_size, embedding_dim)\n",
    "\n",
    "    def embed(self, input_indices):\n",
    "        # Get the embedded vector corresponding to the input index\n",
    "        return self.token_embedding_table.forward(input_indices)\n",
    "\n",
    "# Defining a Position Embedded Module\n",
    "class PositionEmbedding(nn.Module):\n",
    "    def __init__(self, input_sequence_length, embedding_dim):\n",
    "        super().__init__()\n",
    "        # Location embedding layer\n",
    "        self.position_embedding_layer = nn.Embedding(input_sequence_length, embedding_dim)\n",
    "\n",
    "    def forward(self, input_indices):\n",
    "        sequence_length = input_indices.shape[1]  # Get sequence length\n",
    "        position_indices = torch.arange(sequence_length, device=input_indices.device)  # Position index generation\n",
    "        position_embeddings = self.position_embedding_layer(position_indices)  # Position embedding\n",
    "        return position_embeddings\n",
    "\n",
    "class EmbeddingModule(nn.Module):\n",
    "    def __init__(self, vocab_size, config):\n",
    "        super().__init__()\n",
    "        # Embedded layer for each token\n",
    "        self.token_embedding_layer = TokenEmbedding(vocab_size = vocab_size, embedding_dim = config.embedding_dim)\n",
    "        self.position_embedding_layer = PositionEmbedding(input_sequence_length = config.input_sequence_length, embedding_dim = config.embedding_dim)\n",
    "\n",
    "    def forward(self, input_indices):\n",
    "        # Get token embedding\n",
    "        token_embeddings = self.token_embedding_layer.embed(input_indices)\n",
    "\n",
    "        # Get location embedding\n",
    "        position_embeddings = self.position_embedding_layer.forward(input_indices)\n",
    "\n",
    "        # Adding token embedding and position embedding\n",
    "        embeddings = token_embeddings + position_embeddings\n",
    "        return embeddings\n",
    "\n",
    "class AttentionHead(nn.Module):\n",
    "    def __init__(self, head_size, config):\n",
    "        super().__init__()\n",
    "        self.key_fc= nn.Linear(config.embedding_dim, head_size, bias=False)\n",
    "        self.query_fc = nn.Linear(config.embedding_dim, head_size, bias=False)\n",
    "        self.value_fc = nn.Linear(config.embedding_dim, head_size, bias=False)\n",
    "\n",
    "        # Masks are created using the lower triangular matrix (maintaining the causality of self-attention)\n",
    "        self.register_buffer('tril', torch.tril(torch.ones(config.input_sequence_length, config.input_sequence_length)))\n",
    "\n",
    "        # Dropout\n",
    "        self.dropout = DeterministicDropout(config.dropout_rate)\n",
    "        self.head_size = head_size\n",
    "\n",
    "    def forward(self, input_tensor):\n",
    "        B, T, C = input_tensor.shape  # Batch, Token Length, Embedding Channel\n",
    "\n",
    "        key = self.key_fc.forward(input_tensor)     # (B, T, head_size)\n",
    "        query = self.query_fc.forward(input_tensor)   # (B, T, head_size)\n",
    "        value = self.value_fc.forward(input_tensor)   # (B, T, head_size)\n",
    "\n",
    "        # Calculating Attention score (QK^T) * self.head_size **(-0.5)\n",
    "        attention_scores = query @ key.transpose(-2, -1) * self.head_size**(-0.5)\n",
    "\n",
    "        # Mask applied\n",
    "        attention_scores = attention_scores.masked_fill(self.tril[:T, :T] == 0, float('-inf'))\n",
    "\n",
    "        # Softmax → Dropout → Weighted sum\n",
    "        attention_weights = F.softmax(attention_scores, dim=-1)\n",
    "        attention_weights = self.dropout(attention_weights)\n",
    "        out = attention_weights @ value  # (B, T, head_size)\n",
    "        return out\n",
    "\n",
    "class DeterministicDropout(nn.Module):\n",
    "    def __init__(self, p=0.1, seed=199):\n",
    "        super().__init__()\n",
    "        self.p = p\n",
    "        # Create a fixed random number generator\n",
    "        self.generator = torch.Generator()\n",
    "        self.generator.manual_seed(seed)\n",
    "\n",
    "    def forward(self, x):\n",
    "        if self.training:\n",
    "            # Generate random numbers using a fixed generator\n",
    "            mask = (torch.rand(x.shape, generator=self.generator, device=x.device, dtype=x.dtype) > self.p)\n",
    "            return x * mask / (1 - self.p)\n",
    "        else:\n",
    "            return x\n",
    "\n",
    "class MultiHeadAttention(nn.Module):\n",
    "    def __init__(self, config):\n",
    "        super().__init__()\n",
    "        self.config = config\n",
    "        self.num_attention_heads = config.num_attention_heads\n",
    "        self.embedding_dim = config.embedding_dim\n",
    "\n",
    "        # Head size is the number of embedded dimensions // number of AttentionHeads. In this example, 8/2 = 4 is self.head_size.\n",
    "        self.head_size = int(self.embedding_dim / self.num_attention_heads)\n",
    "\n",
    "        # Manage multiple heads with ModuleList\n",
    "        self.attention_heads = nn.ModuleList([\n",
    "            AttentionHead(self.head_size, config)\n",
    "            for _ in range(self.num_attention_heads)\n",
    "        ])\n",
    "\n",
    "        # Linear layer for mixing the outputs of each head\n",
    "        self.output_projection = nn.Linear(self.embedding_dim, self.embedding_dim)\n",
    "\n",
    "        # Dropouts for output\n",
    "        self.dropout = DeterministicDropout(config.dropout_rate)\n",
    "\n",
    "    def forward(self, input_tensor):\n",
    "        # Get output from each head\n",
    "        head_outputs_list = [head(input_tensor) for head in self.attention_heads]  # List of (B, T, head_dim)\n",
    "\n",
    "        # Concatenate outputs of all heads → (B, T, embedding_dim)\n",
    "        concatenated = torch.cat(head_outputs_list, dim=-1)\n",
    "\n",
    "        # Mixing outputs with linear transformation\n",
    "        projected = self.output_projection(concatenated)\n",
    "\n",
    "        # Apply dropout to final output\n",
    "        output = self.dropout(projected)\n",
    "\n",
    "        return output\n",
    "\n",
    "class FeedForward(nn.Module):\n",
    "    def __init__(self, config):\n",
    "        super().__init__()\n",
    "        self.fc1 = nn.Linear(config.embedding_dim, config.hidden_dim)  # The first layer\n",
    "        self.relu = nn.ReLU()  # Activation function\n",
    "        self.fc2 = nn.Linear(config.hidden_dim, config.embedding_dim)  # The second layer fully bonded layer\n",
    "        self.dropout = DeterministicDropout(config.dropout_rate) # Dropout\n",
    "\n",
    "    def forward(self, attention_output_tensor):\n",
    "        hidden_tensor = self.fc1(attention_output_tensor)\n",
    "\n",
    "        activated_tensor = self.relu(hidden_tensor)\n",
    "\n",
    "        output_tensor = self.fc2(activated_tensor)\n",
    "\n",
    "        final_output_tensor = self.dropout(output_tensor)\n",
    "\n",
    "        return final_output_tensor\n",
    "\n",
    "class TransformerBlock(nn.Module):\n",
    "    def __init__(self, config):\n",
    "        super().__init__()\n",
    "        self.layer_norm1 = nn.LayerNorm(config.embedding_dim)\n",
    "        self.layer_norm2 = nn.LayerNorm(config.embedding_dim)\n",
    "\n",
    "        self.multihead_attention = MultiHeadAttention(config=config)\n",
    "        self.feed_forward = FeedForward(config=config)\n",
    "\n",
    "    def forward(self, input_tensor):\n",
    "        normed_input = self.layer_norm1(input_tensor) # Apply Layer Norm to input\n",
    "        attention_output = self.multihead_attention(normed_input) # Apply multi-head attention to normalized inputs\n",
    "        residual_attention = input_tensor + attention_output # Residual connection (adds the output of attention to the original input (before normalization))\n",
    "        normed_attention = self.layer_norm2(residual_attention) # Apply LayerNorm again to residual output\n",
    "        feedforward_output = self.feed_forward(normed_attention) # Apply feedforward network (FFN)\n",
    "        final_output = residual_attention + feedforward_output # Residual connection (added the output of FFN to the previous residual output (before normalization))\n",
    "\n",
    "        return final_output\n",
    "\n",
    "class VocabularyLogits(nn.Module):\n",
    "    def __init__(self, vocab_size, config):\n",
    "        super().__init__()\n",
    "        self.output_norm = nn.LayerNorm(config.embedding_dim)  # Layer normalization\n",
    "        self.vocab_projection = nn.Linear(config.embedding_dim, vocab_size)  # Projection on vocabulary size\n",
    "\n",
    "    def forward(self, transformer_blocks_output):\n",
    "        # Apply Layer normalization to output from a Transformer block\n",
    "        normalized_output = self.output_norm(transformer_blocks_output)  # (batch_size, seq_length, embedding_dim)\n",
    "\n",
    "        # Linear conversion to vocabulary size to calculate the score for each character\n",
    "        vocab_logits = self.vocab_projection(normalized_output)  # (batch_size, seq_length, vocab_size)\n",
    "\n",
    "        return vocab_logits\n",
    "\n",
    "# Configuration class that stores model settings\n",
    "class ModelConfig:\n",
    "    batch_size = 1  # Number of data to process at a time (batch size)\n",
    "    input_sequence_length = 8  # Length of input data (sequence length)\n",
    "    embedding_dim = 8  # Embedded layer size (number of dimensions of feature vector)\n",
    "    hidden_dim = 16 # Hidden layer size in FeedForward layer\n",
    "    num_attention_heads = 2  # Note Mechanism Head Number\n",
    "    dropout_rate = 0.1  # Dropout probability\n",
    "\n",
    "# I've just put together the processes so far so I can skip it\n",
    "torch.manual_seed(1337)\n",
    "\n",
    "# Creating a ModelConfig instance. No configuration parameters (constructors).\n",
    "config = ModelConfig()\n",
    "\n",
    "# Creating an EmbeddingModule instance.\n",
    "embedding_module = EmbeddingModule(vocab_size = 65, config = config)\n",
    "\n",
    "# Creating a Transformer block instance.\n",
    "transformer_block1 = TransformerBlock(config=config)\n",
    "transformer_block2 = TransformerBlock(config=config)\n",
    "\n",
    "# Compatible with Let's he. (Batch size, token length) = (1, 8)\n",
    "sample_input_tokens = torch.tensor([[24, 43, 58, 5, 57, 1, 46, 43]])\n",
    "sample_embeddings = embedding_module.forward(sample_input_tokens)\n",
    "\n",
    "# Pass through the first Transformer block\n",
    "transformer_block1_output = transformer_block1.forward(sample_embeddings)\n",
    "transformer_block2_output = transformer_block2.forward(transformer_block1_output)\n",
    "print_formatted_tensor(\"transformer_block2_output\", transformer_block2_output)"
   ]
  },
  {
   "cell_type": "markdown",
   "metadata": {
    "id": "-NfAPL14n2rk"
   },
   "source": [
    "# **Chapter 11: Bigram Language Model**"
   ]
  },
  {
   "cell_type": "markdown",
   "metadata": {
    "id": "q6NrslZMgWC0"
   },
   "source": [
    "Let's wrap up all the steps so far and create the full BigramLanguageModel class.<br>"
   ]
  },
  {
   "cell_type": "markdown",
   "metadata": {
    "id": "IejFHisZn2rk"
   },
   "source": [
    "### **Section 1: The __init__ Method**"
   ]
  },
  {
   "cell_type": "markdown",
   "metadata": {
    "id": "PixmiVydbqxZ"
   },
   "source": [
    "🔘 **Options**: There may be extra options you don't need.\n",
    "\n",
    "`TokenEmbedding`  `PositionEmbedding`  `EmbeddingModule`  `TransformerBlock`  `VocabularyLogits`"
   ]
  },
  {
   "cell_type": "code",
   "execution_count": null,
   "metadata": {
    "id": "gHmruyaBcmZQ"
   },
   "outputs": [],
   "source": [
    "class BigramLanguageModel(nn.Module):\n",
    "    def __init__(self, config, vocab_size):\n",
    "        super().__init__()\n",
    "        # Defining an Embedded Module\n",
    "        self.embedding = _____________(vocab_size=vocab_size, config=config)\n",
    "\n",
    "        # Define a module with only config.layer_counts of TransformerBlocks stacked\n",
    "        self.blocks = nn.Sequential(\n",
    "            *[______________(config=config)\n",
    "              for _ in range(config.layer_count)]\n",
    "        )\n",
    "\n",
    "        # Projection on vocabulary size\n",
    "        self.vocab_projection = ______________(vocab_size=vocab_size, config=config)\n"
   ]
  },
  {
   "cell_type": "markdown",
   "metadata": {
    "id": "N5qwAFWhN4FR"
   },
   "source": [
    "<details>\n",
    "<summary>Click here to show/hide the answer</summary>\n",
    "\n",
    "```python\n",
    "class BigramLanguageModel(nn.Module):\n",
    "    def __init__(self, config, vocab_size):\n",
    "        super().__init__()\n",
    "        self.embedding = EmbeddingModule(vocab_size=vocab_size, config=config)\n",
    "\n",
    "        # Define a module with only config.layer_counts of TransformerBlocks stacked\n",
    "        self.blocks = nn.Sequential(\n",
    "            *[TransformerBlock(config=config)\n",
    "              for _ in range(config.layer_count)]\n",
    "        )\n",
    "\n",
    "        # Projection on vocabulary size\n",
    "        self.vocab_projection = VocabularyLogits(vocab_size=vocab_size, config=config)\n",
    "```"
   ]
  },
  {
   "cell_type": "markdown",
   "metadata": {
    "id": "Qu8a6SD4x9Wd"
   },
   "source": [
    "**`Chapter 11: BigramLanguageModel: Section 1: init Method`** <label><input type=\"checkbox\"> Mark Complete</label>"
   ]
  },
  {
   "cell_type": "markdown",
   "metadata": {
    "id": "3PoBiWcCn2rk"
   },
   "source": [
    "### **Section 2: The forward Method**"
   ]
  },
  {
   "cell_type": "markdown",
   "metadata": {
    "id": "QH31N-3zgrwE"
   },
   "source": [
    "The input is a sequence of sentence IDs. The output gives the likelihood of each word and the loss between the correct answer and the likelihood.<br>\n",
    "In deep learning model classes, the forward method usually returns not only the predicted likelihood during training (forward pass) but also the loss between the correct answer and the likelihood."
   ]
  },
  {
   "cell_type": "markdown",
   "metadata": {
    "id": "kvgdSp1Me2mz"
   },
   "source": [
    "🔘 **Options**: There may be extra options you don't need.\n",
    "\n",
    "`self.embedding`　`self.blocks`　`self.vocab_projection`　`input_indices`　`embeddings`　`vocab_size`　`batch_size`　`token_len`　`vocab_size`　`nn.MSELoss()`　`nn.CrossEntropyLoss()`　`nn.BCELoss()`"
   ]
  },
  {
   "cell_type": "code",
   "execution_count": null,
   "metadata": {
    "id": "zFvLhYzOubah"
   },
   "outputs": [],
   "source": [
    "# BigramLanguageModel Class Definition\n",
    "class BigramLanguageModel(nn.Module):\n",
    "    def __init__(self, vocab_size, config):\n",
    "        super().__init__()\n",
    "        self.embedding = EmbeddingModule(vocab_size, config=config)\n",
    "        self.blocks = nn.Sequential(*[TransformerBlock(config=config) for _ in range(config.layer_count)])\n",
    "        self.vocab_projection = VocabularyLogits(config.embedding_dim, vocab_size)\n",
    "        self.criterion = nn.CrossEntropyLoss()\n",
    "\n",
    "    # Calculate the loss\n",
    "    def forward(self, input_indices, target_indices):\n",
    "      # Embedded (method `forward` is optional)\n",
    "      embeddings = _____________(__________)\n",
    "      # Passing the transformer block (method `forward` is optional)\n",
    "      blocks_output = _________(_________)\n",
    "      # Output vocabulary logit (method `forward` is optional)\n",
    "      vocab_logits = __________(blocks_output)\n",
    "\n",
    "      # When inference, there is no correct index, so losses cannot be calculated. Returns vocab_logits as likelihood and None as loss.\n",
    "      if target_indices is None:\n",
    "        return vocab_logits, None\n",
    "\n",
    "      # Loss calculation\n",
    "      batch_size, token_len, vocab_size = vocab_logits.shape\n",
    "      vocab_logits = vocab_logits.view(_________ * __________, _________) # Reshape to 2D to use nn.CrossEntropyLoss instance\n",
    "      targets = target_indices.view(_________ * __________) # Reshape to 1D to use nn.CrossEntropyLoss instances\n",
    "      criterion = __________________\n",
    "      # Output vocabulary logit (method `forward` is optional)\n",
    "      loss = self.criterion(vocab_logits, targets)\n",
    "\n",
    "      return vocab_logits, loss"
   ]
  },
  {
   "cell_type": "markdown",
   "metadata": {
    "id": "uMa_J-ZGCPaF"
   },
   "source": [
    "<details>\n",
    "<summary>Click here to show/hide the answer</summary>\n",
    "\n",
    "```python\n",
    "# BigramLanguageModel Class Definition\n",
    "class BigramLanguageModel(nn.Module):\n",
    "    def __init__(self, vocab_size, config):\n",
    "        super().__init__()\n",
    "        self.embedding = EmbeddingModule(vocab_size, config=config)\n",
    "        self.blocks = nn.Sequential(*[TransformerBlock(config=config) for _ in range(config.layer_count)])\n",
    "        self.vocab_projection = VocabularyLogits(config.embedding_dim, vocab_size)\n",
    "        self.criterion = nn.CrossEntropyLoss()\n",
    "\n",
    "    # Calculate the loss\n",
    "    def forward(self, input_indices, target_indices):\n",
    "      # Embedded (method `forward` is optional)\n",
    "      embeddings = self.embedding(input_indices)\n",
    "      # Passing the transformer block (method `forward` is optional)\n",
    "      blocks_output = self.blocks(embeddings)\n",
    "      # Output vocabulary logit (method `forward` is optional)\n",
    "      vocab_logits = self.vocab_projection(blocks_output)\n",
    "\n",
    "      # When inference, there is no correct index, so losses cannot be calculated. Returns vocab_logits as likelihood and None as loss.\n",
    "      if target_indices is None:\n",
    "        return vocab_logits, None\n",
    "\n",
    "      # Loss calculation\n",
    "      batch_size, token_len, vocab_size = vocab_logits.shape\n",
    "      vocab_logits = vocab_logits.view(batch_size * token_len, vocab_size) # Reshape to 2D to use nn.CrossEntropyLoss instance\n",
    "      targets = target_indices.view(batch_size * token_len) # Reshape to 1D to use nn.CrossEntropyLoss instances\n",
    "      # Output vocabulary logit (method `forward` is optional)\n",
    "      loss = self.criterion(vocab_logits, targets)\n",
    "\n",
    "      return vocab_logits, loss\n",
    "```"
   ]
  },
  {
   "cell_type": "markdown",
   "metadata": {
    "id": "Y61O2m3MxxnJ"
   },
   "source": [
    "**`Chapter 11: BigramLanguageModel: Section 2 forward Method`** <label><input type=\"checkbox\"> Mark as Done</label>"
   ]
  },
  {
   "cell_type": "markdown",
   "metadata": {
    "id": "L1PTnvkFn2rk"
   },
   "source": [
    "### **Section 3: The generate Method**"
   ]
  },
  {
   "cell_type": "markdown",
   "metadata": {
    "id": "Ta_zQ3_Ca9bb"
   },
   "source": [
    "Type \"Explain deep learning\" into [ChatGPT](https://chatgpt.com/) and check the result.<br>\n",
    "Next, enter the same prompt again.<br>\n",
    "Even though you ask the same question, the answers will differ a bit.<br>\n",
    "You might say, “That’s obvious, right?”<br>\n",
    "But do you know why?<br>\n",
    "This section will explore why these differences happen. Follow along!"
   ]
  },
  {
   "cell_type": "markdown",
   "metadata": {
    "id": "6NAZvP07dHs7"
   },
   "source": [
    "![image.png](data:image/png;base64,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)"
   ]
  },
  {
   "cell_type": "markdown",
   "metadata": {
    "id": "AYdpT3gtnWSH"
   },
   "source": [
    "**How the Model Infers Words**\n",
    "\n",
    "This section explains how to use a language model to guess words.  \n",
    "First, let's get the basic idea through a simple example.  \n",
    "<br>\n",
    "<br>\n",
    "🎯 **Goal**\n",
    "\n",
    "For instance, we consider generating output from input(prompt) shown below.\n",
    "- **Input (prompt)**: `I`  \n",
    "- **Output**: `I love you`\n",
    "\n",
    "Normally, the `BigramLanguageModel` class treats characters as tokens.  \n",
    "But to keep things simple here, treat **words as tokens** instead.  \n",
    "<br>\n",
    "<br>\n",
    "🧠 **Key point: The model predicts the \"next token\" for every position, not just one**\n",
    "\n",
    "This language model predicts **the next word (token) for every position** in the input sequence.  \n",
    "<br>\n",
    "<br>\n",
    "**Step 1**  \n",
    "- **Input**: `[\"I\"]`  \n",
    "- Model output: predicted tokens → `[\"love\"]`  \n",
    "  - It predicts `\"love\"` as the word after `\"I\"`  \n",
    "- Add the last prediction `\"love\"` as a new token  \n",
    "- **Result**: `[\"I\", \"love\"]`  \n",
    "<br>\n",
    "<br>\n",
    "\n",
    "**Step 2**  \n",
    "- **Input**: `[\"I\", \"love\"]`  \n",
    "- Model output: predicted tokens → `[\"love\", \"you\"]`  \n",
    "  - Predicts `\"love\"` after `\"I\"` and `\"you\"` after `\"love\"`  \n",
    "- Add the last prediction `\"you\"`  \n",
    "- **Result**: `[\"I\", \"love\", \"you\"]`  \n",
    "<br>\n",
    "<br>\n",
    "---\n",
    "\n",
    "In this way, the model **predicts the next token for every position in the input sequence at once**.  \n",
    "Then, when generating text, it **only uses the prediction from the last position to pick the next token**.  \n",
    "This is the key to how it works."
   ]
  },
  {
   "cell_type": "code",
   "execution_count": null,
   "metadata": {
    "id": "KejjfuBJ_WLf"
   },
   "outputs": [],
   "source": [
    "import torch\n",
    "import torch.nn.functional as F"
   ]
  },
  {
   "cell_type": "markdown",
   "metadata": {
    "id": "1Dw82Lcph_SA"
   },
   "source": [
    "#### **Greedy Sampling**"
   ]
  },
  {
   "cell_type": "markdown",
   "metadata": {
    "id": "C51BoGXw22SS"
   },
   "source": [
    "- Vocabulary (In this simple example, 6 words): `[\"I\", \"you\", \"am\", \"is\", \"love\", \"hate\"]`"
   ]
  },
  {
   "cell_type": "code",
   "execution_count": null,
   "metadata": {
    "id": "YftaS2652gA1"
   },
   "outputs": [],
   "source": [
    "vocab = {\"I\": 0, \"you\": 1, \"am\": 2, \"is\": 3, \"love\": 4, \"hate\": 5}"
   ]
  },
  {
   "cell_type": "markdown",
   "metadata": {
    "id": "h98Rdyiy3DqD"
   },
   "source": [
    "- Initial input: `[[0]]` (= \"I\"). (Batch size, token length) = (1, 1)"
   ]
  },
  {
   "cell_type": "code",
   "execution_count": null,
   "metadata": {
    "id": "4zM-d66Hi6rS"
   },
   "outputs": [],
   "source": [
    "input_indices = torch.tensor([[0]])  # \"I\""
   ]
  },
  {
   "cell_type": "markdown",
   "metadata": {
    "id": "z31UxMuQ3UfH"
   },
   "source": [
    "- Assume the model output logits are given as follows. Shape: (B, T, V) = (1, 1, 6)"
   ]
  },
  {
   "cell_type": "code",
   "execution_count": null,
   "metadata": {
    "id": "rsfdEbIP3g56"
   },
   "outputs": [],
   "source": [
    "logits = torch.tensor([[[1.0, 0.5, 0.0, -1.0, 3.0, 2.0]]])  # Corresponding words are in order: [\"I\", \"you\", \"am\", \"is\", \"love\", \"hate\"]\n",
    "print(\"logits shape\", logits.shape)"
   ]
  },
  {
   "cell_type": "markdown",
   "metadata": {
    "id": "5dtoI9-t-ze8"
   },
   "source": [
    "Get the vocabulary score of the last token"
   ]
  },
  {
   "cell_type": "code",
   "execution_count": null,
   "metadata": {
    "id": "fextNkiR-kPo"
   },
   "outputs": [],
   "source": [
    "# Get the vocabulary score for the last token\n",
    "# Output tensor size: (B, V) =  (1, 6)\n",
    "last_logits = logits[:,-1,:]\n",
    "print_formatted_tensor(\"last_logits\", last_logits)"
   ]
  },
  {
   "cell_type": "markdown",
   "metadata": {
    "id": "WjRugf9-3q7j"
   },
   "source": [
    "Convert to probabilities with Softmax"
   ]
  },
  {
   "cell_type": "code",
   "execution_count": null,
   "metadata": {
    "id": "eeexQSG_3wVX"
   },
   "outputs": [],
   "source": [
    "probs = # TODO: F.softmax(logits, dim=last number of dimensions)\n",
    "print_formatted_tensor(\"Probabilities\", probs)"
   ]
  },
  {
   "cell_type": "markdown",
   "metadata": {
    "id": "Uzo_fRpa4ZXK"
   },
   "source": [
    "greedy sampling (always picks the token with the highest probability)"
   ]
  },
  {
   "cell_type": "markdown",
   "metadata": {
    "id": "_EPI2zlPaSY0"
   },
   "source": [
    "```python\n",
    "Function: torch.argmax  \n",
    "Args:  \n",
    "  - probs: tensor of probability distributions, shape (B, V)  \n",
    "  - dim=-1: pick the max index along the last dimension  \n",
    "  - keepdim=True: keep the dimension for easier concat  \n",
    "Assign to: next_token\n",
    "```\n",
    "\n",
    "* `torch.argmax` returns the index of the max value.\n",
    "* With `dim=-1`, it picks the highest-prob word in the vocab dimension.\n",
    "* `keepdim=True` retains that dimension for later ops (like concat).\n",
    "* `next_token` is the index of the most probable word this step.\n",
    "* In the example, “love” appears because it had the highest probability.\n"
   ]
  },
  {
   "cell_type": "code",
   "execution_count": null,
   "metadata": {
    "id": "-OaeGgZ64z5V"
   },
   "outputs": [],
   "source": [
    "next_token = # TODO: Function(Arguments)\n",
    "print(\"next_token\", next_token)  # \"love\""
   ]
  },
  {
   "cell_type": "markdown",
   "metadata": {
    "id": "0U-eFv636t-k"
   },
   "source": [
    "**`Check Point`** <label><input type=\"checkbox\">next_token tensor([[4]])</label>"
   ]
  },
  {
   "cell_type": "markdown",
   "metadata": {
    "id": "6A4RRzVAbKnI"
   },
   "source": [
    "```python\n",
    "Function: torch.cat\n",
    "Arguments: (input_indices, next_token), dim=THINK_FOR_YOURSELF\n",
    "Assign to: input_indices\n",
    "````\n",
    "\n",
    "* `torch.cat` merges tensors along a chosen dimension.\n",
    "* Please merge along columns (the token axis).\n",
    "* It joins `input_indices` (first “I”) and `next_token` (“love”).\n",
    "* The result becomes the token sequence: “I”, “love”."
   ]
  },
  {
   "cell_type": "code",
   "execution_count": null,
   "metadata": {
    "id": "4mqQ2y-369aW"
   },
   "outputs": [],
   "source": [
    "input_indices = torch.tensor([[0]])  # \"I\"\n",
    "input_indices = # TODO: Function(Arguments)\n",
    "print(\"input_indices\", input_indices)  # \"I\" \"love\""
   ]
  },
  {
   "cell_type": "markdown",
   "metadata": {
    "id": "1rkwCbNB8BSC"
   },
   "source": [
    "**`Check Point`** <label><input type=\"checkbox\">input_indices tensor([[0, 4]])</label>"
   ]
  },
  {
   "cell_type": "markdown",
   "metadata": {
    "id": "4HNGyv6o8utC"
   },
   "source": [
    "---\n"
   ]
  },
  {
   "cell_type": "markdown",
   "metadata": {
    "id": "GNPQzEoe8kZ7"
   },
   "source": [
    "**Step 2: Enter \"I love\"**\n"
   ]
  },
  {
   "cell_type": "code",
   "execution_count": null,
   "metadata": {
    "id": "jpdIhayv82uk"
   },
   "outputs": [],
   "source": [
    "input_indices = torch.tensor([[0, 4]])  # \"I love\""
   ]
  },
  {
   "cell_type": "markdown",
   "metadata": {
    "id": "NaQepvmK9Sxm"
   },
   "source": [
    "- Suppose the model output logits are given like this. <br>\n",
    "(Input length 2 → The model output length is also 2. Focus on the last token.)"
   ]
  },
  {
   "cell_type": "code",
   "execution_count": null,
   "metadata": {
    "id": "w-r89RZM9YFt"
   },
   "outputs": [],
   "source": [
    "logits = torch.tensor([[[1.0, 0.5, 0.0, -1.0, 3.0, 2.0],  # Skip (Output for \"I\")\n",
    "                        [0.5, 3.2, -1.0, 0.0, 0.2, -0.5]]])  # View this (output for \"love\")"
   ]
  },
  {
   "cell_type": "code",
   "execution_count": null,
   "metadata": {
    "id": "5lg0EoHx-KKc"
   },
   "outputs": [],
   "source": [
    "# Get the vocabulary score for the last token\n",
    "last_logits = logits[:,-1,:]\n",
    "print_formatted_tensor(\"last_logits\", last_logits)"
   ]
  },
  {
   "cell_type": "markdown",
   "metadata": {
    "id": "-NC3FyY1Ax3m"
   },
   "source": [
    "Convert to probabilities with Softmax"
   ]
  },
  {
   "cell_type": "code",
   "execution_count": null,
   "metadata": {
    "id": "g-ZXV6g_AxkE"
   },
   "outputs": [],
   "source": [
    "probs = F.softmax(last_logits, dim=-1)\n",
    "print_formatted_tensor(\"Probabilities\", probs)"
   ]
  },
  {
   "cell_type": "markdown",
   "metadata": {
    "id": "YPT-N1KLA3HS"
   },
   "source": [
    "greedy sampling (always picking the token with the highest probability)"
   ]
  },
  {
   "cell_type": "code",
   "execution_count": null,
   "metadata": {
    "id": "OJl8dP8ABk8v"
   },
   "outputs": [],
   "source": [
    "next_token = # TODO: use torch.argmax\n",
    "print(\"next_token\", next_token)  # \"you\""
   ]
  },
  {
   "cell_type": "markdown",
   "metadata": {
    "id": "qCdmqD_8BssK"
   },
   "source": [
    "**`Check Point`** <label><input type=\"checkbox\">next_token tensor([[1]])</label>"
   ]
  },
  {
   "cell_type": "code",
   "execution_count": null,
   "metadata": {
    "id": "YBY3287VB19_"
   },
   "outputs": [],
   "source": [
    "input_indices = torch.tensor([[0, 4]])  # \"I\" \"love\"\n",
    "input_indices = torch.cat((input_indices, next_token), dim=-1)\n",
    "print(\"input_indices\", input_indices)  # \"I\" \"love\" \"you\""
   ]
  },
  {
   "cell_type": "markdown",
   "metadata": {
    "id": "wJVNxsBiB8aK"
   },
   "source": [
    "**`Check Point`** <label><input type=\"checkbox\">input_indices tensor([[0, 4, 1]])</label>"
   ]
  },
  {
   "cell_type": "markdown",
   "metadata": {
    "id": "RLpMdVgxuO71"
   },
   "source": [
    "On the other hand, **Max sampling** (always picking the word with the highest probability) can cause **repetition** like this:\n",
    "\n",
    "> *I am a large language model, I am a large language model, ...*\n",
    "\n",
    "This issue is **eased by using Multinomial sampling**."
   ]
  },
  {
   "cell_type": "markdown",
   "metadata": {
    "id": "mxhzpPqz2E-H"
   },
   "source": [
    "#### **Multinomial Sampling**"
   ]
  },
  {
   "cell_type": "markdown",
   "metadata": {
    "id": "6kIT3fbOYkFE"
   },
   "source": [
    "Multinomial sampling picks tokens based on their probabilities.\n",
    "\n",
    "For example, imagine this probability distribution:\n",
    "\n",
    "```\n",
    "[ 0.08,  0.05,  0.03,  0.01,  0.60,  0.22 ]\n",
    "```\n",
    "\n",
    "Here,\n",
    "\n",
    "- Token 0 (like \"I\") has an 8% chance,\n",
    "- Token 1 (like \"you\") has a 5% chance,\n",
    "- Token 2 (like \"am\") has a 3% chance,\n",
    "- Token 3 (like \"is\") has a 1% chance,\n",
    "- Token 4 (like \"love\") has a 60% chance,\n",
    "- Token 5 (like \"hate\") has a 22% chance.\n",
    "\n",
    "Each token’s chance of being picked is set like this.\n",
    "\n",
    "In multinomial sampling, the model **randomly picks one token** following this distribution.\n",
    "\n",
    "Tokens with higher chances (like \"love\") get picked more often.\n",
    "\n",
    "Tokens with low chances (like \"is\") get picked rarely.\n",
    "\n",
    "This way, the model **stochastically picks “likely” words** while crafting its sentence."
   ]
  },
  {
   "cell_type": "markdown",
   "metadata": {
    "id": "3ekeSzg4dE0T"
   },
   "source": [
    "```python\n",
    "Function: torch.multinomial  \n",
    "Arguments:  \n",
    "  - probs: tensor of word probability distributions  \n",
    "  - num_samples=1: draw one sample  \n",
    "Assign to: next_token\n",
    "````\n",
    "\n",
    "* `torch.multinomial` randomly samples from a categorical distribution.\n",
    "* It picks one token index based on `probs`.\n",
    "* Unlike `torch.argmax`, it adds randomness to generation.\n",
    "* `num_samples=1` gets one index per batch into `next_token`."
   ]
  },
  {
   "cell_type": "code",
   "execution_count": null,
   "metadata": {
    "id": "_kDuD7wLZGog"
   },
   "outputs": [],
   "source": [
    "torch.manual_seed(1337)\n",
    "\n",
    "probs = torch.tensor([[0.08, 0.05, 0.03, 0.01, 0.60, 0.22]])\n",
    "next_token = # TODO: Function(Arguments)\n",
    "print(\"next_token\", next_token)  # \"hate\""
   ]
  },
  {
   "cell_type": "markdown",
   "metadata": {
    "id": "P5svKLWdaHAV"
   },
   "source": [
    "The word \"hate\" was chosen because **Multinomial sampling** produced natural and diverse outputs.\n"
   ]
  },
  {
   "cell_type": "markdown",
   "metadata": {
    "id": "0qGR20XqZGDo"
   },
   "source": [
    "**Step 2: Type \"I hate\"**"
   ]
  },
  {
   "cell_type": "code",
   "execution_count": null,
   "metadata": {
    "id": "JHg3V8dWA7Wd"
   },
   "outputs": [],
   "source": [
    "input_indices = torch.tensor([[0, 5]])  # \"I hate\""
   ]
  },
  {
   "cell_type": "markdown",
   "metadata": {
    "id": "TFAqcVXdBMRp"
   },
   "source": [
    "Model Output: logits (length 2 → model output length is also 2. Focus on the last token)"
   ]
  },
  {
   "cell_type": "code",
   "execution_count": null,
   "metadata": {
    "id": "A-cIN-WSBL0m"
   },
   "outputs": [],
   "source": [
    "# Assume that the following model output logits is obtained\n",
    "logits = torch.tensor([[[1.0, 0.5, 0.0, -1.0, 3.0, 2.0],  # Skip (output for \"I\")\n",
    "                        [0.5, 3.2, -1.0, 0.0, 0.2, -0.5]]])  # View this (output for \"hate\")"
   ]
  },
  {
   "cell_type": "code",
   "execution_count": null,
   "metadata": {
    "id": "SHu9fHumBTVd"
   },
   "outputs": [],
   "source": [
    "# Get the vocabulary score for the last token\n",
    "last_logits = logits[:,-1,:]\n",
    "print_formatted_tensor(\"last_logits\", last_logits)"
   ]
  },
  {
   "cell_type": "markdown",
   "metadata": {
    "id": "QDduOWDfBaCi"
   },
   "source": [
    "Convert to probabilities with Softmax"
   ]
  },
  {
   "cell_type": "code",
   "execution_count": null,
   "metadata": {
    "id": "7Myuu_gJBc3T"
   },
   "outputs": [],
   "source": [
    "probs = # TODO: F.softmax(THINK_FOR_YOURSELF, dim=last number of dimensions)\n",
    "print_formatted_tensor(\"Probabilities\", probs)"
   ]
  },
  {
   "cell_type": "markdown",
   "metadata": {
    "id": "0RwntWJ8BhJp"
   },
   "source": [
    "**Multinomial Sampling**"
   ]
  },
  {
   "cell_type": "code",
   "execution_count": null,
   "metadata": {
    "id": "5UY403j_Bjiq"
   },
   "outputs": [],
   "source": [
    "next_token = # TODO: Multinomial sampling\n",
    "print(\"next_token\", next_token)  # \"you\""
   ]
  },
  {
   "cell_type": "markdown",
   "metadata": {
    "id": "ODD5kypYCHxa"
   },
   "source": [
    "Result: I hate you  [ 0, 5, 1 ]  \n",
    "\n",
    "The last token might not be 1 for randomness of mutinomial samling."
   ]
  },
  {
   "cell_type": "markdown",
   "metadata": {
    "id": "UbtGF8A6CFYX"
   },
   "source": [
    "**Trimming (Context Window)**"
   ]
  },
  {
   "cell_type": "markdown",
   "metadata": {
    "id": "5e5vQh6yCJLC"
   },
   "source": [
    "Language models have a limit on how long the input text can be.\n",
    "\n",
    "This is because the `PositionEmbedding` class supports only a fixed number of positions (tokens).\n",
    "\n",
    "For example, if it supports up to 8 tokens, it cannot assign position info beyond the 9th token.\n",
    "\n",
    "So, as the text keeps growing during generation, the model only uses the \"most recent set number of tokens.\"\n",
    "\n",
    "Any older part that goes beyond the limit gets cut off.\n",
    "\n",
    "You will see \"context length\" when using LLM API, this is exactly the maximum length that model can process.\n",
    "\n",
    "For GPT-series;\n",
    "\n",
    "| Model             | Context Length                                 |\n",
    "| :---------------- | :--------------------------------------------- |\n",
    "| **GPT-1**         | 512 tokens ([mattrickard.com][1])              |\n",
    "| **GPT-2**         | 1,024 tokens ([mattrickard.com][1])            |\n",
    "| **GPT-3**         | 2,048 tokens ([mattrickard.com][1])            |\n",
    "| **GPT-3.5-turbo** | 4,096 tokens ([en.wikipedia.org][3])           |\n",
    "| **GPT-4o**        | 128,000 tokens ([en.wikipedia.org][2])         |\n",
    "\n",
    "[1]: https://mattrickard.com/the-context-length-observation?utm_source=chatgpt.com \"The Context Length Observation - Matt Rickard\"  \n",
    "[2]: https://en.wikipedia.org/wiki/GPT-4o?utm_source=chatgpt.com \"GPT-4o\"  \n",
    "[3]: https://en.wikipedia.org/wiki/GPT-3.5?utm_source=chatgpt.com \"GPT-3.5\"\n",
    "\n",
    "\n",
    "In November 2022, ChatGPT (GPT-3.5-turbo) first launched.<br>\n",
    "After about ten messages, it would forget earlier chat parts.<br>\n",
    "Now, models have longer context lengths.<br>\n",
    "They also summarize past chats into memory.<br>\n",
    "So this is hardly an issue now. Back then, it was a bit inconvenient."
   ]
  },
  {
   "cell_type": "markdown",
   "metadata": {
    "id": "ansX_hiqGByV"
   },
   "source": [
    "```python\n",
    "Slice: input_indices[:, -8:]\n",
    "```\n",
    "\n",
    "- The input shape is (batch size, token length) = `(1, 11)`. The result shape is `(1, 8)`. It keeps the batch size but extracts the last 8 tokens.\n",
    "- `[:, -8:]` grabs a continuous chunk of 8 tokens from the end for all batches.\n"
   ]
  },
  {
   "cell_type": "code",
   "execution_count": null,
   "metadata": {
    "id": "AoxkjXLlD8LV"
   },
   "outputs": [],
   "source": [
    "input_indices = torch.tensor([[0, 4, 1, 6, 7, 8, 0, 9, 1, 10, 7]])\n",
    "\n",
    "input_conditioned = # TODO: Extract the last 8 tokens\n",
    "print_formatted_tensor(input_conditioned)"
   ]
  },
  {
   "cell_type": "markdown",
   "metadata": {
    "id": "KubUwqNPf8b-"
   },
   "source": [
    "Also, even if the string has less than 8 characters, slicing it like `[:, -8:]` won’t cause an error. It works just fine."
   ]
  },
  {
   "cell_type": "code",
   "execution_count": null,
   "metadata": {
    "id": "qdEcu4XDf46s"
   },
   "outputs": [],
   "source": [
    "input_indices = torch.tensor([[0, 4, 1, 6]])\n",
    "\n",
    "# Extract the last 8 tokens of the sequence (common to all batches)\n",
    "input_conditioned = input_indices[:, -8:] # Four characters are chosen\n",
    "print_formatted_tensor(input_conditioned)"
   ]
  },
  {
   "cell_type": "markdown",
   "metadata": {
    "id": "3tSeTP2NxoMC"
   },
   "source": [
    "**`Chapter 11: BigramLanguageModel Class: Section 3: generate Method`** <label><input type=\"checkbox\"> Mark as Done</label>"
   ]
  },
  {
   "cell_type": "markdown",
   "metadata": {
    "id": "CQHlBEpe3mG0"
   },
   "source": [
    "### **Section 4: Define a Class**"
   ]
  },
  {
   "cell_type": "markdown",
   "metadata": {
    "id": "ylx-XKqtjBjc"
   },
   "source": [
    "🔘 **Options**: There may be extra options you don't need.\n",
    "\n",
    "`-self.config.input_sequence_length:`　`self.vocab_projection`　`self.forward`　`last_logits`　`torch.multinomial`　`torch.argmax`　`torch.cat`　`input_indices`　`next_token`　`max_new_tokens`"
   ]
  },
  {
   "cell_type": "code",
   "execution_count": null,
   "metadata": {
    "id": "njyPBDmgojYb"
   },
   "outputs": [],
   "source": [
    "class BigramLanguageModel(nn.Module):\n",
    "    def __init__(self, vocab_size, config):\n",
    "        super().__init__()\n",
    "        self.config = config  # It is also used when generating, so keep it.\n",
    "        self.embedding = EmbeddingModule(vocab_size, config=config)\n",
    "        self.blocks = nn.Sequential(*[TransformerBlock(config=config) for _ in range(config.layer_count)])\n",
    "        self.vocab_projection = VocabularyLogits(vocab_size=vocab_size, config=config)\n",
    "        self.criterion = nn.CrossEntropyLoss()\n",
    "\n",
    "    # Generate text\n",
    "    def generate(self, input_indices, max_new_tokens):\n",
    "        # Generate only the specified number of tokens `max_new_tokens`\n",
    "        for _ in range(max_new_tokens):\n",
    "            input_conditioned = input_indices[:, ______________________________] # Clip input\n",
    "\n",
    "            # Forward pass returns `(likelihood, loss)`—store only the `likelihood` as `logits`.\n",
    "            logits, _ = ___________(input_conditioned, target_indices=None)\n",
    "            last_logits = logits[:, -1, :] # Extract logit for the last token position\n",
    "            probs = F.softmax(_________, dim=-1) # Convert likelihood to probability with Softmax\n",
    "\n",
    "            # Sample the next token\n",
    "            next_token = ______________(probs, num_samples=1)\n",
    "\n",
    "            # Consolidate new tokens, update `input_indices`.\n",
    "            input_indices = _________((___________, _________), dim=1)\n",
    "\n",
    "        # return final `input_indices`. The length is original `input_indices` + `max_new_tokens`\n",
    "        return input_indices\n",
    "\n",
    "    # Calculate likelihood and loss\n",
    "    def forward(self, input_indices, target_indices):\n",
    "        embeddings = self.embedding(input_indices)\n",
    "        blocks_output = self.blocks(embeddings)\n",
    "        logits = self.vocab_projection(blocks_output)\n",
    "\n",
    "        # During inference there’s no target, so loss is `None`—only the likelihood (logits) is returned.\n",
    "        if target_indices is None:\n",
    "            return logits, None\n",
    "\n",
    "        batch_size, token_len, vocab_size = logits.shape\n",
    "        logits = logits.view(batch_size * token_len, vocab_size)\n",
    "        targets = target_indices.view(batch_size * token_len)\n",
    "\n",
    "        loss = self.criterion(logits, targets)\n",
    "\n",
    "        return logits, loss"
   ]
  },
  {
   "cell_type": "markdown",
   "metadata": {
    "id": "CgvGgdmHpidM"
   },
   "source": [
    "<details>\n",
    "<summary>Click here to show/hide the answer</summary>\n",
    "\n",
    "```python\n",
    "class BigramLanguageModel(nn.Module):\n",
    "    def __init__(self, vocab_size, config):\n",
    "        super().__init__()\n",
    "        self.config = config  # It is also used when generating, so keep it.\n",
    "        self.embedding = EmbeddingModule(vocab_size, config=config)\n",
    "        self.blocks = nn.Sequential(*[TransformerBlock(config=config) for _ in range(config.layer_count)])\n",
    "        self.vocab_projection = VocabularyLogits(vocab_size=vocab_size, config=config)\n",
    "        self.criterion = nn.CrossEntropyLoss()\n",
    "        \n",
    "    # Generate text\n",
    "    def generate(self, input_indices, max_new_tokens):\n",
    "        # Generate only the specified number of tokens `max_new_tokens`\n",
    "        for _ in range(max_new_tokens):\n",
    "            input_conditioned = input_indices[:, -self.config.input_sequence_length:] # Clip input\n",
    "\n",
    "            # Forward pass returns `(likelihood, loss)`—store only the `likelihood` as `logits`.\n",
    "            logits, _ = self.forward(input_conditioned, target_indices=None)\n",
    "            last_logits = logits[:, -1, :] # Extract logit for the last token position\n",
    "            probs = F.softmax(last_logits, dim=-1) # Convert likelihood to probability with Softmax\n",
    "\n",
    "            # Sample the next token\n",
    "            next_token = torch.multinomial(probs, num_samples=1)\n",
    "\n",
    "            # Consolidate new tokens, update `input_indices`.\n",
    "            input_indices = torch.cat((input_indices, next_token), dim=1)\n",
    "\n",
    "        # return final `input_indices`. The length is original `input_indices` + `max_new_tokens`\n",
    "        return input_indices\n",
    "\n",
    "    # Calculate likelihood and loss\n",
    "    def forward(self, input_indices, target_indices):\n",
    "        embeddings = self.embedding(input_indices)\n",
    "        blocks_output = self.blocks(embeddings)\n",
    "        logits = self.vocab_projection(blocks_output)\n",
    "\n",
    "        # During inference there’s no target, so loss is `None`\n",
    "        # —only the likelihood (logits) is returned.\n",
    "        if target_indices is None:\n",
    "            return logits, None\n",
    "\n",
    "        batch_size, token_len, vocab_size = logits.shape\n",
    "        logits = logits.view(batch_size * token_len, vocab_size)\n",
    "        targets = target_indices.view(batch_size * token_len)\n",
    "        loss = self.criterion(logits, targets)\n",
    "\n",
    "        return logits, loss\n",
    "```"
   ]
  },
  {
   "cell_type": "code",
   "execution_count": null,
   "metadata": {
    "id": "cVOsDoNLmkn2"
   },
   "outputs": [],
   "source": [
    "class ModelConfig:\n",
    "    batch_size = 1  # Number of data to process at a time (batch size)\n",
    "    input_sequence_length = 8  # Length of input data (sequence length)\n",
    "    embedding_dim = 8  # Embedded layer size (number of dimensions of feature vector)\n",
    "    hidden_dim = 16\n",
    "    num_attention_heads = 2  # Note Mechanism Head Number\n",
    "    layer_count = 2  # Number of layers in the model\n",
    "    dropout_rate = 0.1  # Dropout probability"
   ]
  },
  {
   "cell_type": "code",
   "execution_count": null,
   "metadata": {
    "id": "tgBzoOGW4DbS"
   },
   "outputs": [],
   "source": [
    "# Adjust seed value\n",
    "torch.manual_seed(1337)\n",
    "\n",
    "# Creating a ModelConfig instance. No configuration parameters (constructors).\n",
    "config = ModelConfig()\n",
    "\n",
    "# Compatible with Let's he. (Batch size, token length) = (1, 8)\n",
    "sample_input_tokens = torch.tensor([[24, 43, 58, 5, 57, 1, 46, 43]])\n",
    "\n",
    "# Compatible with et's hea. (Batch size, token length) = (1, 8)\n",
    "sample_target_indices = torch.tensor([[43, 58,  5, 57,  1, 46, 43, 39]])\n",
    "\n",
    "# Instantiation of BigramLanguageModel\n",
    "model = BigramLanguageModel(vocab_size=65, config=config)\n",
    "\n",
    "# Calculate likelihood and loss.\n",
    "vocab_logits, loss = # TODO: Instance.Method(Argument)\n",
    "\n",
    "print_formatted_tensor(\"vocab_logits\", vocab_logits)"
   ]
  },
  {
   "cell_type": "code",
   "execution_count": null,
   "metadata": {
    "id": "V8DYcZn6kx2C"
   },
   "outputs": [],
   "source": [
    "print(\"loss\\n\", loss)"
   ]
  },
  {
   "cell_type": "markdown",
   "metadata": {
    "id": "o_fpRtaHkjxQ"
   },
   "source": [
    "**`Check Point`** <label><input type=\"checkbox\"> ← Check this box if the result above matches the answer below<label>\n",
    "\n",
    "```\n",
    "loss\n",
    " tensor(3.8954, grad_fn=<NllLossBackward0>)\n",
    "```"
   ]
  },
  {
   "cell_type": "markdown",
   "metadata": {
    "id": "67ifb2_0xi5f"
   },
   "source": [
    "**`Chapter 11: BigramLanguageModel: Section 4: Define a Class`** <label><input type=\"checkbox\"> Mark as Done</label>"
   ]
  },
  {
   "cell_type": "markdown",
   "metadata": {
    "id": "ySyCNLsuxtpQ"
   },
   "source": [
    "**`Chapter 11: The BigramLanguageModel:`** <label><input type=\"checkbox\"> Mark as Done</label>"
   ]
  }
 ],
 "metadata": {
  "colab": {
   "provenance": [],
   "toc_visible": true
  },
  "kernelspec": {
   "display_name": "Python 3",
   "language": "python",
   "name": "python3"
  },
  "language_info": {
   "codemirror_mode": {
    "name": "ipython",
    "version": 3
   },
   "file_extension": ".py",
   "mimetype": "text/x-python",
   "name": "python",
   "nbconvert_exporter": "python",
   "pygments_lexer": "ipython3",
   "version": "3.11.6"
  }
 },
 "nbformat": 4,
 "nbformat_minor": 0
}
